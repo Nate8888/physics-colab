{
  "nbformat": 4,
  "nbformat_minor": 0,
  "metadata": {
    "kernelspec": {
      "display_name": "Python 3",
      "language": "python",
      "name": "python3"
    },
    "language_info": {
      "codemirror_mode": {
        "name": "ipython",
        "version": 3
      },
      "file_extension": ".py",
      "mimetype": "text/x-python",
      "name": "python",
      "nbconvert_exporter": "python",
      "pygments_lexer": "ipython3",
      "version": "3.7.7"
    },
    "colab": {
      "name": "Magnetic_field_Strength.ipynb",
      "provenance": [],
      "collapsed_sections": [],
      "include_colab_link": true
    }
  },
  "cells": [
    {
      "cell_type": "markdown",
      "metadata": {
        "id": "view-in-github",
        "colab_type": "text"
      },
      "source": [
        "<a href=\"https://colab.research.google.com/github/Nate8888/physics-colab/blob/master/Magnetic_field_Strength.ipynb\" target=\"_parent\"><img src=\"https://colab.research.google.com/assets/colab-badge.svg\" alt=\"Open In Colab\"/></a>"
      ]
    },
    {
      "cell_type": "markdown",
      "metadata": {
        "id": "FjFhGWak8y6I"
      },
      "source": [
        "If you're running this in Google Colab, you can click \"Copy to Drive\" (above &#8593;) or go to **File > Save a Copy in Drive** so you'll have your own version to work on. That requires a Google login.  \n",
        "<hr/>\n",
        "\n",
        "# Analyzing Measurement Uncertainty   \n",
        "We'll use Dr. Natasha Holmes's *Statistics Summary* (linked in the course website) as a guide for how to analyze data in this course. This notebook shows how to do use python to do the calculations in section II *Statistics for Repeated Measurements with Statistical Variation* and section III *Making Comparisons*.\n",
        "\n",
        "If you need to start over from scratch, open a [clean copy of this activity](https://colab.research.google.com/github/adamlamee/UCF_labs/blob/master/making_comparisons.ipynb). If you need a refresher on how to execute this notebook, try the [intro activity](https://colab.research.google.com/github/adamlamee/UCF_labs/blob/master/intro.ipynb).    \n",
        "\n",
        "## II. Statistics for Repeated Measurements with Statistical Variation"
      ]
    },
    {
      "cell_type": "code",
      "metadata": {
        "id": "d2DpOMOJ8y6M"
      },
      "source": [
        "import numpy as np                   # numpy does math\n",
        "import matplotlib.pyplot as plt      # pyplot makes plots"
      ],
      "execution_count": null,
      "outputs": []
    },
    {
      "cell_type": "code",
      "metadata": {
        "id": "tkqsqlFw8y6V",
        "outputId": "d50fc239-933a-45d1-dfc9-d1d56b496f8d",
        "colab": {
          "base_uri": "https://localhost:8080/",
          "height": 279
        }
      },
      "source": [
        "# you can change the measurements and histogram properties\n",
        "# keep the same format (e.g., brackets and commas) to avoid errors\n",
        "\n",
        "sample_left = [-5636.61, -82.89, -97.12, 5638.06]  # [Bx, By, Bz, and Bt] some measurements from magnet oriented on the left. \n",
        "\n",
        "sample_up = [8.9, 16.18, 5801.19, 5801.22] #[Bx, By, Bz, and Bt] magnet pointing toward the sensor\n",
        "\n",
        "sample_down = [2.95, 72.24, -5989.36, 5989.79] #[Bx, By, Bz, and Bt] magnet pointing away from sensor\n",
        "\n",
        "sample_right = [5648.47, 171.31, -91.05, 5651.8] #[Bx, By, Bz, and Bt] magnet pointing to right of sensor\n",
        "\n",
        "#We are plotting on the historgram the total field strength\n",
        "plt.hist(([sample_up[3]], [sample_right[3]], [sample_down[3]], [sample_left[3]]), bins=4, range=[5600,6000], color=('red','blue','green','yellow'), label=['Up', 'Right', 'Down', 'Left']);   # makes a histogram\n",
        "plt.xlabel('Total Field Strength');\n",
        "plt.ylabel('Number of occurrences');\n",
        "plt.legend();"
      ],
      "execution_count": null,
      "outputs": [
        {
          "output_type": "display_data",
          "data": {
            "image/png": "[encoded data removed]",
            "text/plain": [
              "<Figure size 432x288 with 1 Axes>"
            ]
          },
          "metadata": {
            "tags": [],
            "needs_background": "light"
          }
        }
      ]
    },
    {
      "cell_type": "code",
      "metadata": {
        "id": "6ajrRN5D8y6b",
        "outputId": "b502542e-889e-4730-9417-063db58c60f9",
        "colab": {
          "base_uri": "https://localhost:8080/"
        }
      },
      "source": [
        "up_mean, right_mean, down_mean, left_mean = [sample_up[3], sample_right[3], sample_down[3], sample_left[3]]  # calculates the mean of sample a, saves it as a variable names \"a_mean\"\n",
        "print(up_mean, right_mean, down_mean, left_mean)                  # displays the mean value you just calculated"
      ],
      "execution_count": null,
      "outputs": [
        {
          "output_type": "stream",
          "text": [
            "5801.22 5651.8 5989.79 5638.06\n"
          ],
          "name": "stdout"
        }
      ]
    },
    {
      "cell_type": "code",
      "metadata": {
        "id": "7yQgmRul8y6q",
        "outputId": "02e067c2-8e46-448d-814e-d7ead1203c45",
        "colab": {
          "base_uri": "https://localhost:8080/"
        }
      },
      "source": [
        "up_stdev = np.std([sample_up])      # finds the standard deviation\n",
        "up_stdev"
      ],
      "execution_count": null,
      "outputs": [
        {
          "output_type": "execute_result",
          "data": {
            "text/plain": [
              "2894.3336444627025"
            ]
          },
          "metadata": {
            "tags": []
          },
          "execution_count": 24
        }
      ]
    },
    {
      "cell_type": "code",
      "metadata": {
        "id": "x1F-3qgY8y6v",
        "outputId": "8ec37990-1159-4996-fe2f-c8555f28da3f",
        "colab": {
          "base_uri": "https://localhost:8080/"
        }
      },
      "source": [
        "# try that again for sample b's standard deviation\n",
        "left_std = np.std(sample_left)      # finds the standard deviation\n",
        "left_std"
      ],
      "execution_count": null,
      "outputs": [
        {
          "output_type": "execute_result",
          "data": {
            "text/plain": [
              "3986.4591112853523"
            ]
          },
          "metadata": {
            "tags": []
          },
          "execution_count": 26
        }
      ]
    },
    {
      "cell_type": "code",
      "metadata": {
        "id": "V-WMqEmnJuQe",
        "outputId": "a413c210-2da4-4ef8-cd41-a454e94512de",
        "colab": {
          "base_uri": "https://localhost:8080/"
        }
      },
      "source": [
        "right_std = np.std(sample_right)      # finds the standard deviation\n",
        "right_std"
      ],
      "execution_count": null,
      "outputs": [
        {
          "output_type": "execute_result",
          "data": {
            "text/plain": [
              "2806.536033497299"
            ]
          },
          "metadata": {
            "tags": []
          },
          "execution_count": 25
        }
      ]
    },
    {
      "cell_type": "code",
      "metadata": {
        "id": "Uvp3sllJ8y61",
        "outputId": "2810632c-fd02-4efd-9114-1ba8dce71a19",
        "colab": {
          "base_uri": "https://localhost:8080/"
        }
      },
      "source": [
        "down_std = np.std(sample_down)      # \"a_count\" is now a variable with the number of observations in sample a\n",
        "down_std"
      ],
      "execution_count": null,
      "outputs": [
        {
          "output_type": "execute_result",
          "data": {
            "text/plain": [
              "4235.38118643706"
            ]
          },
          "metadata": {
            "tags": []
          },
          "execution_count": 27
        }
      ]
    },
    {
      "cell_type": "code",
      "metadata": {
        "id": "iN69e8Yo8y69",
        "outputId": "86ab6d3f-688c-491b-de0f-b4c2ec71ea45",
        "colab": {
          "base_uri": "https://localhost:8080/",
          "height": 34
        }
      },
      "source": [
        "fixed_count = len(sample_left)      # our count is the same for"
      ],
      "execution_count": null,
      "outputs": [
        {
          "output_type": "execute_result",
          "data": {
            "text/plain": [
              "5"
            ]
          },
          "metadata": {
            "tags": []
          },
          "execution_count": 14
        }
      ]
    },
    {
      "cell_type": "code",
      "metadata": {
        "id": "yMQ7TsyOSNY7",
        "outputId": "7cbe523f-5ed7-4d53-9bda-77e932479f38",
        "colab": {
          "base_uri": "https://localhost:8080/"
        }
      },
      "source": [
        "N_up, N_right, N_down, N_left = 522, 514, 520, 535\n",
        "print(N_up, N_right, N_down, N_left)"
      ],
      "execution_count": null,
      "outputs": [
        {
          "output_type": "stream",
          "text": [
            "522 514 520 535\n"
          ],
          "name": "stdout"
        }
      ]
    },
    {
      "cell_type": "code",
      "metadata": {
        "id": "4b9mzoBgScCh",
        "outputId": "909f7398-3185-4c56-dd52-6178a187373f",
        "colab": {
          "base_uri": "https://localhost:8080/"
        }
      },
      "source": [
        "u_up = np.sqrt(pow(0.005 / N_up, 2) * N_up)\n",
        "u_right = np.sqrt(pow(0.005 / N_right, 2) * N_right)\n",
        "u_down = np.sqrt(pow(0.005 / N_down, 2) * N_down)\n",
        "u_left = np.sqrt(pow(0.005 / N_left, 2) * N_left)\n",
        "print(\"Uncertainties:\", u_up, u_right, u_down, u_left)\n",
        "\n",
        "t_up_down = (sample_up[3] - sample_down[3]) / np.sqrt(u_up**2 + u_down**2)\n",
        "t_up_right = (sample_up[3] - sample_right[3]) / np.sqrt(u_up**2 + u_right**2)\n",
        "t_up_left = (sample_up[3] - sample_left[3]) / np.sqrt(u_up**2 + u_left**2)\n",
        "\n",
        "t_right_left = (sample_right[3] - sample_left[3]) / np.sqrt(u_right**2 + u_left**2)\n",
        "t_right_down = (sample_right[3] - sample_down[3]) / np.sqrt(u_right**2 + u_down**2)\n",
        "\n",
        "t_down_left = (sample_down[3] - sample_left[3]) / np.sqrt(u_down**2 + u_left**2)\n",
        "\n",
        "print(\"Up vs down:\", t_up_down)\n",
        "print(\"Up vs right:\", t_up_right)\n",
        "print(\"Up vs left:\", t_up_left)\n",
        "print(\"Right vs left:\", t_right_left)\n",
        "print(\"Right vs down:\", t_right_down)\n",
        "print(\"Down vs left:\", t_down_left)"
      ],
      "execution_count": null,
      "outputs": [
        {
          "output_type": "stream",
          "text": [
            "Uncertainties: 0.00021884405476620426 0.00022054054569561546 0.0002192645048267573 0.00021616885058355848\n",
            "Up vs down: -608703.3060883105\n",
            "Up vs right: 480923.12563717854\n",
            "Up vs left: 530418.1068909381\n",
            "Right vs left: 44492.56410019162\n",
            "Right vs down: -1086817.9652148073\n",
            "Down vs left: 1142330.4163360277\n"
          ],
          "name": "stdout"
        }
      ]
    }
  ]
}