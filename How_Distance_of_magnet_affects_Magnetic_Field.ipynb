{
  "nbformat": 4,
  "nbformat_minor": 0,
  "metadata": {
    "colab": {
      "name": "How Distance of magnet affects Magnetic Field.ipynb",
      "provenance": [],
      "collapsed_sections": [],
      "include_colab_link": true
    },
    "kernelspec": {
      "name": "python3",
      "display_name": "Python 3"
    }
  },
  "cells": [
    {
      "cell_type": "markdown",
      "metadata": {
        "id": "view-in-github",
        "colab_type": "text"
      },
      "source": [
        "<a href=\"https://colab.research.google.com/github/Nate8888/physics-colab/blob/master/How_Distance_of_magnet_affects_Magnetic_Field.ipynb\" target=\"_parent\"><img src=\"https://colab.research.google.com/assets/colab-badge.svg\" alt=\"Open In Colab\"/></a>"
      ]
    },
    {
      "cell_type": "code",
      "metadata": {
        "id": "5JnSajSjOAdt"
      },
      "source": [
        "from scipy.stats import chisquare\n",
        "from google.colab import files\n",
        "import pandas as pd\n",
        "import io\n",
        "import numpy as np\n",
        "import matplotlib.pyplot as plt"
      ],
      "execution_count": null,
      "outputs": []
    },
    {
      "cell_type": "markdown",
      "metadata": {
        "id": "whYakSlYU0G2"
      },
      "source": [
        ""
      ]
    },
    {
      "cell_type": "code",
      "metadata": {
        "id": "8SIfmEv7RK6G"
      },
      "source": [
        "#uploaded = files.upload()\n",
        "\n",
        "Data_Frame = pd.read_csv('mag 0.5 inches.csv')\n",
        "Data_Frame2 = pd.read_csv('mag 0.75 inches.csv')\n",
        "Data_Frame3 = pd.read_csv('mag 1 inches.csv')\n",
        "Data_Frame4 = pd.read_csv('mag 1.25 inches.csv')\n",
        "Data_Frame5 = pd.read_csv('mag 1.5 inches.csv')\n",
        "Data_Frame6 = pd.read_csv('mag 1.75 inches.csv')\n",
        "Data_Frame7 = pd.read_csv('mag 2 inches.csv')\n",
        "Data_Frame8 = pd.read_csv('mag 2.25 inches.csv')\n",
        "Data_Frame9 = pd.read_csv('mag 2.5 inches.csv')\n",
        "Data_Frame10 = pd.read_csv('mag 2.75 inches.csv')\n",
        "Data_Frame11 = pd.read_csv('mag 3 inches.csv')\n",
        "Data_Frame12 = pd.read_csv('mag 3.25 inches.csv')\n",
        "Data_Frame13 = pd.read_csv('mag 3.5 inches.csv')\n",
        "Data_Frame14 = pd.read_csv('mag 3.75 inches.csv')\n",
        "Data_Frame15 = pd.read_csv('mag 4 inches.csv')\n",
        "\n",
        "\n",
        "\n",
        "\n",
        "\n",
        "# Data_Frame2 = pd.read_csv(io.BytesIO(uploaded['mag 2 inches.csv']))\n",
        "# Data_Frame3 = pd.read_csv(io.BytesIO(uploaded['mag 3 inches.csv']))\n",
        "# Data_Frame4 = pd.read_csv(io.BytesIO(uploaded['mag 4 inches.csv']))\n",
        "\n",
        "all_data_frames = [Data_Frame, Data_Frame2, Data_Frame3, Data_Frame4, Data_Frame5, Data_Frame6, Data_Frame7, Data_Frame8, Data_Frame9, Data_Frame10, Data_Frame11, Data_Frame12, Data_Frame13, Data_Frame14, Data_Frame15]\n",
        "\n",
        "\n",
        "#chisquare([16, 18, 16, 14, 12, 12])"
      ],
      "execution_count": null,
      "outputs": []
    },
    {
      "cell_type": "code",
      "metadata": {
        "id": "yb1_QQxkTZtr",
        "outputId": "940a4081-2860-46d1-aa9f-ec3266eccaf6",
        "colab": {
          "base_uri": "https://localhost:8080/"
        }
      },
      "source": [
        "#How we Access it.\n",
        "# print(\"You just printed the first entry in the BT collumn\")\n",
        "#print(Data_Frame[\"BT\"][0])\n",
        "\n",
        "means = [0]*15\n",
        "i = 0\n",
        "for each_dataFrame in all_data_frames:\n",
        "  means[i] = sum(each_dataFrame[\"BT\"])/len(each_dataFrame[\"BT\"])\n",
        "  i += 1\n",
        "\n",
        "print(means)\n",
        "\n",
        "# Goes to all rows and print the column value from BT.\n",
        "# for i in range(len(Data_Frame)):\n",
        "#   print(Data_Frame[\"BT\"][i]) \n"
      ],
      "execution_count": null,
      "outputs": [
        {
          "output_type": "stream",
          "text": [
            "[4435.624999999999, 1577.4198214285695, 1037.6855555555558, 513.3756204379561, 349.17768953068617, 296.6895636363634, 260.565543478261, 243.4365934065932, 173.92608108108104, 229.67059040590388, 192.1119163763066, 222.84152482269508, 154.0432014388489, 219.50165492957743, 163.11246268656723]\n"
          ],
          "name": "stdout"
        }
      ]
    },
    {
      "cell_type": "code",
      "metadata": {
        "id": "BiIozYEdU8u1",
        "outputId": "96729077-f53f-4f37-c062-c7dc1ecbdd7a",
        "colab": {
          "base_uri": "https://localhost:8080/",
          "height": 279
        }
      },
      "source": [
        "fig = plt.figure();\n",
        "ax = fig.add_subplot();\n",
        "ax.set_xlabel('Distance from sensor (cm)');\n",
        "ax.set_ylabel('Total magnetic field (T)');\n",
        "x_points = [1.27, 1.905, 2.54, 3.175, 3.81, 4.445, 5.08, 5.715, 6.35, 6.985, 7.62, 8.255, 8.89, 9.525, 10.16];\n",
        "ax.scatter(x_points, means);"
      ],
      "execution_count": null,
      "outputs": [
        {
          "output_type": "display_data",
          "data": {
            "image/png": "[encoded data removed]",
            "text/plain": [
              "<Figure size 432x288 with 1 Axes>"
            ]
          },
          "metadata": {
            "tags": [],
            "needs_background": "light"
          }
        }
      ]
    },
    {
      "cell_type": "code",
      "metadata": {
        "id": "TUuFvrVGWbUD",
        "outputId": "42014e42-9a0d-4d51-8366-519149bf4131",
        "colab": {
          "base_uri": "https://localhost:8080/",
          "height": 312
        }
      },
      "source": [
        "m = -60;\n",
        "b = 1000;\n",
        "\n",
        "def eq_line(m, x, b):\n",
        "  return (m*x)+b;\n",
        "\n",
        "pred = [0] * len(x_points);\n",
        "for i in range(len(x_points)):\n",
        "  pred[i] = eq_line(m, x_points[0] + (0.635 * i), b);\n",
        "\n",
        "total = 0;\n",
        "for i in range(len(x_points)):\n",
        "  uncert = np.std(all_data_frames[i][\"BT\"]) / np.sqrt(len(all_data_frames[i][\"BT\"]));\n",
        "  total += ((means[i] - pred[i]) ** 2) / (uncert ** 2);\n",
        "chi2_line = total / len(x_points);\n",
        "\n",
        "print('Chi Squared:', chi2_line);\n",
        "fig = plt.figure();\n",
        "ax = fig.add_subplot();\n",
        "ax.set_xlabel('Distance from sensor (cm)');\n",
        "ax.set_ylabel('Total magnetic field (T)');\n",
        "ax.set_title('Best fit line');\n",
        "ax.scatter(x_points, means);\n",
        "ax.plot(x_points, pred);"
      ],
      "execution_count": null,
      "outputs": [
        {
          "output_type": "stream",
          "text": [
            "Chi Squared: 21595233.125146594\n"
          ],
          "name": "stdout"
        },
        {
          "output_type": "display_data",
          "data": {
            "image/png": "[encoded data removed]",
            "text/plain": [
              "<Figure size 432x288 with 1 Axes>"
            ]
          },
          "metadata": {
            "tags": [],
            "needs_background": "light"
          }
        }
      ]
    },
    {
      "cell_type": "code",
      "metadata": {
        "id": "HXiaw1TYdEyG",
        "outputId": "c23d0300-6f1b-4fd2-b19b-43a1dcb42378",
        "colab": {
          "base_uri": "https://localhost:8080/",
          "height": 567
        }
      },
      "source": [
        "a = 256740;\n",
        "b = 4;\n",
        "c = 0;\n",
        "d = 2.508;\n",
        "e = 141;\n",
        "\n",
        "def eq_inverse(a, b, c, d, x):\n",
        "  return (a / (((b * (x + c)) ** d))) + e;\n",
        "  \n",
        "pred = [0] * len(x_points);\n",
        "for i in range(len(x_points)):\n",
        "  pred[i] = eq_inverse(a, b, c, d, x_points[0] + (0.635 * i));\n",
        "\n",
        "total = 0;\n",
        "for i in range(len(x_points)):\n",
        "  #if (i == 0): continue;\n",
        "  uncert = np.std(all_data_frames[i][\"BT\"]) / np.sqrt(len(all_data_frames[i][\"BT\"]));\n",
        "  print(i, ':', uncert);\n",
        "  total += ((means[i] - pred[i]) ** 2) / (uncert ** 2);\n",
        "chi2_line = total / len(x_points);\n",
        "\n",
        "print('Chi Squared:', chi2_line);\n",
        "fig = plt.figure();\n",
        "ax = fig.add_subplot();\n",
        "ax.set_xlabel('Distance from sensor (cm)');\n",
        "ax.set_ylabel('Total magnetic field (T)');\n",
        "ax.set_title('Best fit line: ( ' + str(a) + ' / ((( ' + str(b) + ' * (x + ' + str(c) + ' )) ** ' + str(d) + ' ))) + ' + str(e));\n",
        "ax.scatter(x_points, means);\n",
        "ax.plot(x_points, pred);"
      ],
      "execution_count": null,
      "outputs": [
        {
          "output_type": "stream",
          "text": [
            "0 : 7.934298985866324\n",
            "1 : 0.5856115229001757\n",
            "2 : 0.11146806926944043\n",
            "3 : 0.08574372618801691\n",
            "4 : 0.14623819840459704\n",
            "5 : 0.06191510558275593\n",
            "6 : 0.05739272461075928\n",
            "7 : 0.06686424972082532\n",
            "8 : 0.08469871881572083\n",
            "9 : 0.09544908723738478\n",
            "10 : 0.05085027090893889\n",
            "11 : 0.06856375819819589\n",
            "12 : 0.06848894892938495\n",
            "13 : 0.06260552707803703\n",
            "14 : 0.056419782828795575\n",
            "Chi Squared: 270396.8632937952\n"
          ],
          "name": "stdout"
        },
        {
          "output_type": "display_data",
          "data": {
            "image/png": "[encoded data removed]",
            "text/plain": [
              "<Figure size 432x288 with 1 Axes>"
            ]
          },
          "metadata": {
            "tags": [],
            "needs_background": "light"
          }
        }
      ]
    }
  ]
}