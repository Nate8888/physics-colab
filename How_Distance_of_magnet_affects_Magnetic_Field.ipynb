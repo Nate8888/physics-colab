{
  "nbformat": 4,
  "nbformat_minor": 0,
  "metadata": {
    "colab": {
      "name": "How Distance of magnet affects Magnetic Field.ipynb",
      "provenance": [],
      "collapsed_sections": [],
      "include_colab_link": true
    },
    "kernelspec": {
      "name": "python3",
      "display_name": "Python 3"
    }
  },
  "cells": [
    {
      "cell_type": "markdown",
      "metadata": {
        "id": "view-in-github",
        "colab_type": "text"
      },
      "source": [
        "<a href=\"https://colab.research.google.com/github/Nate8888/physics-colab/blob/master/How_Distance_of_magnet_affects_Magnetic_Field.ipynb\" target=\"_parent\"><img src=\"https://colab.research.google.com/assets/colab-badge.svg\" alt=\"Open In Colab\"/></a>"
      ]
    },
    {
      "cell_type": "code",
      "metadata": {
        "id": "5JnSajSjOAdt"
      },
      "source": [
        "from scipy.stats import chisquare\n",
        "from google.colab import files\n",
        "import pandas as pd\n",
        "import io\n",
        "import numpy as np\n",
        "import matplotlib.pyplot as plt"
      ],
      "execution_count": null,
      "outputs": []
    },
    {
      "cell_type": "markdown",
      "metadata": {
        "id": "whYakSlYU0G2"
      },
      "source": [
        ""
      ]
    },
    {
      "cell_type": "code",
      "metadata": {
        "id": "8SIfmEv7RK6G"
      },
      "source": [
        "#uploaded = files.upload()\n",
        "\n",
        "Data_Frame = pd.read_csv('mag 1 inches.csv')\n",
        "Data_Frame2 = pd.read_csv('mag 2 inches.csv')\n",
        "Data_Frame3 = pd.read_csv('mag 3 inches.csv')\n",
        "Data_Frame4 = pd.read_csv('mag 4 inches.csv')\n",
        "\n",
        "# Data_Frame2 = pd.read_csv(io.BytesIO(uploaded['mag 2 inches.csv']))\n",
        "# Data_Frame3 = pd.read_csv(io.BytesIO(uploaded['mag 3 inches.csv']))\n",
        "# Data_Frame4 = pd.read_csv(io.BytesIO(uploaded['mag 4 inches.csv']))\n",
        "\n",
        "all_data_frames = [Data_Frame, Data_Frame2, Data_Frame3, Data_Frame4]\n",
        "\n",
        "\n",
        "#chisquare([16, 18, 16, 14, 12, 12])"
      ],
      "execution_count": null,
      "outputs": []
    },
    {
      "cell_type": "code",
      "metadata": {
        "id": "yb1_QQxkTZtr",
        "outputId": "edc4dafa-418b-4109-d41e-85bccd0ad742",
        "colab": {
          "base_uri": "https://localhost:8080/",
          "height": 34
        }
      },
      "source": [
        "#How we Access it.\n",
        "# print(\"You just printed the first entry in the BT collumn\")\n",
        "#print(Data_Frame[\"BT\"][0])\n",
        "\n",
        "means = [0]*4\n",
        "i = 0\n",
        "for each_dataFrame in all_data_frames:\n",
        "  means[i] = sum(each_dataFrame[\"BT\"])/len(each_dataFrame[\"BT\"])\n",
        "  i += 1\n",
        "\n",
        "print(means)\n",
        "\n",
        "# Goes to all rows and print the column value from BT.\n",
        "# for i in range(len(Data_Frame)):\n",
        "#   print(Data_Frame[\"BT\"][i]) \n"
      ],
      "execution_count": null,
      "outputs": [
        {
          "output_type": "stream",
          "text": [
            "[1037.6855555555558, 260.565543478261, 192.1119163763066, 163.11246268656723]\n"
          ],
          "name": "stdout"
        }
      ]
    },
    {
      "cell_type": "code",
      "metadata": {
        "id": "BiIozYEdU8u1",
        "outputId": "caca1b25-7374-48fc-8656-b6838ffcf8bf",
        "colab": {
          "base_uri": "https://localhost:8080/",
          "height": 279
        }
      },
      "source": [
        "fig = plt.figure();\n",
        "ax = fig.add_subplot();\n",
        "ax.set_xlabel('Distance from sensor (cm)');\n",
        "ax.set_ylabel('Total magnetic field (T)');\n",
        "ax.scatter([2.54, 5.08, 7.62, 10.16], means);"
      ],
      "execution_count": null,
      "outputs": [
        {
          "output_type": "display_data",
          "data": {
            "image/png": "[encoded data removed]",
            "text/plain": [
              "<Figure size 432x288 with 1 Axes>"
            ]
          },
          "metadata": {
            "tags": [],
            "needs_background": "light"
          }
        }
      ]
    },
    {
      "cell_type": "code",
      "metadata": {
        "id": "TUuFvrVGWbUD",
        "outputId": "ccc80a5a-5e47-49cf-ca32-c94593f7354c",
        "colab": {
          "base_uri": "https://localhost:8080/",
          "height": 312
        }
      },
      "source": [
        "m = -60;\n",
        "b = 1000;\n",
        "\n",
        "def eq_line(m, x, b):\n",
        "  return (m*x)+b;\n",
        "pred = [eq_line(m, 2.54, b), eq_line(m, 5.08, b), eq_line(m, 7.62, b), eq_line(m, 10.16, b)];\n",
        "\n",
        "total = 0;\n",
        "for i in range(4):\n",
        "  uncert = np.std(all_data_frames[i][\"BT\"]) / np.sqrt(len(all_data_frames[i][\"BT\"]));\n",
        "  total += ((means[i] - eq_line(m, pred[i], b)) ** 2) / (uncert ** 2);\n",
        "chi2_line = total / 4;\n",
        "\n",
        "print('Chi Squared:', chi2_line);\n",
        "fig = plt.figure();\n",
        "ax = fig.add_subplot();\n",
        "ax.set_xlabel('Distance from sensor (cm)');\n",
        "ax.set_ylabel('Total magnetic field (T)');\n",
        "ax.set_title('Best fit line');\n",
        "ax.scatter([2.54, 5.08, 7.62, 10.16], means);\n",
        "ax.plot([2.54, 5.08, 7.62, 10.16], pred);"
      ],
      "execution_count": null,
      "outputs": [
        {
          "output_type": "stream",
          "text": [
            "Chi Squared: 317121607914.92426\n"
          ],
          "name": "stdout"
        },
        {
          "output_type": "display_data",
          "data": {
            "image/png": "[encoded data removed]",
            "text/plain": [
              "<Figure size 432x288 with 1 Axes>"
            ]
          },
          "metadata": {
            "tags": [],
            "needs_background": "light"
          }
        }
      ]
    },
    {
      "cell_type": "code",
      "metadata": {
        "id": "HXiaw1TYdEyG"
      },
      "source": [
        "a = 0;\n",
        "b = 0;\n",
        "c = 0;\n",
        "\n",
        "def eq_inverse(a, b, c):\n",
        "  return (1 / (a * (x ** b))) + c;\n",
        "pred = [eq_line(m, 2.54, b), eq_line(m, 5.08, b), eq_line(m, 7.62, b), eq_line(m, 10.16, b)];"
      ],
      "execution_count": null,
      "outputs": []
    }
  ]
}