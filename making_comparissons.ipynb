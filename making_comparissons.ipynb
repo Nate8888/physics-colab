{
  "nbformat": 4,
  "nbformat_minor": 0,
  "metadata": {
    "kernelspec": {
      "display_name": "Python 3",
      "language": "python",
      "name": "python3"
    },
    "language_info": {
      "codemirror_mode": {
        "name": "ipython",
        "version": 3
      },
      "file_extension": ".py",
      "mimetype": "text/x-python",
      "name": "python",
      "nbconvert_exporter": "python",
      "pygments_lexer": "ipython3",
      "version": "3.7.7"
    },
    "colab": {
      "name": "physics_making_comparissons.ipynb",
      "provenance": [],
      "include_colab_link": true
    }
  },
  "cells": [
    {
      "cell_type": "markdown",
      "metadata": {
        "id": "view-in-github",
        "colab_type": "text"
      },
      "source": [
        "<a href=\"https://colab.research.google.com/github/Nate8888/physics-colab/blob/master/making_comparissons.ipynb\" target=\"_parent\"><img src=\"https://colab.research.google.com/assets/colab-badge.svg\" alt=\"Open In Colab\"/></a>"
      ]
    },
    {
      "cell_type": "markdown",
      "metadata": {
        "id": "FjFhGWak8y6I",
        "colab_type": "text"
      },
      "source": [
        "If you're running this in Google Colab, you can click \"Copy to Drive\" (above &#8593;) or go to **File > Save a Copy in Drive** so you'll have your own version to work on. That requires a Google login.  \n",
        "<hr/>\n",
        "\n",
        "# Analyzing Measurement Uncertainty   \n",
        "We'll use Dr. Natasha Holmes's *Statistics Summary* (linked in the course website) as a guide for how to analyze data in this course. This notebook shows how to do use python to do the calculations in section II *Statistics for Repeated Measurements with Statistical Variation* and section III *Making Comparisons*.\n",
        "\n",
        "If you need to start over from scratch, open a [clean copy of this activity](https://colab.research.google.com/github/adamlamee/UCF_labs/blob/master/making_comparisons.ipynb). If you need a refresher on how to execute this notebook, try the [intro activity](https://colab.research.google.com/github/adamlamee/UCF_labs/blob/master/intro.ipynb).    \n",
        "\n",
        "## II. Statistics for Repeated Measurements with Statistical Variation"
      ]
    },
    {
      "cell_type": "code",
      "metadata": {
        "id": "d2DpOMOJ8y6M",
        "colab_type": "code",
        "colab": {}
      },
      "source": [
        "import numpy as np                   # numpy does math\n",
        "import matplotlib.pyplot as plt      # pyplot makes plots"
      ],
      "execution_count": 1,
      "outputs": []
    },
    {
      "cell_type": "code",
      "metadata": {
        "id": "tkqsqlFw8y6V",
        "colab_type": "code",
        "colab": {
          "base_uri": "https://localhost:8080/",
          "height": 265
        },
        "outputId": "3d203c11-b1e9-4675-e02a-9906048b9f70"
      },
      "source": [
        "# you can change the measurements and histogram properties\n",
        "# keep the same format (e.g., brackets and commas) to avoid errors\n",
        "\n",
        "sample_a = [1.2, 1.3, 1.1, 0.9, 1.4]               # some measurements from sample A\n",
        "sample_b = [1.3, 1.1, 1.4, 1.5, 1.2]               # some measurements from trial B to compare\n",
        "plt.hist((sample_a, sample_b), bins=5, range=[0.8,1.8], color=('pink','purple'));   # makes a histogram"
      ],
      "execution_count": 2,
      "outputs": [
        {
          "output_type": "display_data",
          "data": {
            "image/png": "[encoded data removed]",
            "text/plain": [
              "<Figure size 432x288 with 1 Axes>"
            ]
          },
          "metadata": {
            "tags": [],
            "needs_background": "light"
          }
        }
      ]
    },
    {
      "cell_type": "code",
      "metadata": {
        "id": "6ajrRN5D8y6b",
        "colab_type": "code",
        "colab": {
          "base_uri": "https://localhost:8080/",
          "height": 34
        },
        "outputId": "f4213f50-1af0-410f-b523-c0fa5fdd9fdf"
      },
      "source": [
        "a_mean = np.mean(sample_a)   # calculates the mean of sample a, saves it as a variable names \"a_mean\"\n",
        "a_mean                       # displays the mean value you just calculated"
      ],
      "execution_count": 3,
      "outputs": [
        {
          "output_type": "execute_result",
          "data": {
            "text/plain": [
              "1.1800000000000002"
            ]
          },
          "metadata": {
            "tags": []
          },
          "execution_count": 3
        }
      ]
    },
    {
      "cell_type": "code",
      "metadata": {
        "id": "fRm8qYZt8y6h",
        "colab_type": "code",
        "colab": {
          "base_uri": "https://localhost:8080/",
          "height": 34
        },
        "outputId": "f91f915e-7266-4329-a4d7-18aebcad19f8"
      },
      "source": [
        "# try adding code here to find the mean of sample b\n",
        "# copy and paste are a programmers best friends, but rename your variables\n",
        "b_mean = np.mean(sample_b)   # calculates the mean of sample a, saves it as a variable names \"a_mean\"\n",
        "b_mean      "
      ],
      "execution_count": 4,
      "outputs": [
        {
          "output_type": "execute_result",
          "data": {
            "text/plain": [
              "1.3000000000000003"
            ]
          },
          "metadata": {
            "tags": []
          },
          "execution_count": 4
        }
      ]
    },
    {
      "cell_type": "code",
      "metadata": {
        "id": "7yQgmRul8y6q",
        "colab_type": "code",
        "colab": {}
      },
      "source": [
        "a_stdev = np.std(sample_a)      # finds the standard deviation\n",
        "a_stdev"
      ],
      "execution_count": null,
      "outputs": []
    },
    {
      "cell_type": "code",
      "metadata": {
        "id": "x1F-3qgY8y6v",
        "colab_type": "code",
        "colab": {
          "base_uri": "https://localhost:8080/",
          "height": 34
        },
        "outputId": "2ca372aa-b5c5-44f4-985f-085ff8c8a1c6"
      },
      "source": [
        "# try that again for sample b's standard deviation\n",
        "b_stdev = np.std(sample_b)      # finds the standard deviation\n",
        "b_stdev"
      ],
      "execution_count": 5,
      "outputs": [
        {
          "output_type": "execute_result",
          "data": {
            "text/plain": [
              "0.14142135623730948"
            ]
          },
          "metadata": {
            "tags": []
          },
          "execution_count": 5
        }
      ]
    },
    {
      "cell_type": "code",
      "metadata": {
        "id": "Uvp3sllJ8y61",
        "colab_type": "code",
        "colab": {
          "base_uri": "https://localhost:8080/",
          "height": 34
        },
        "outputId": "e88dea44-a2ea-4b29-dabc-ec5fbe24acbe"
      },
      "source": [
        "a_count = len(sample_a)      # \"a_count\" is now a variable with the number of observations in sample a\n",
        "a_count"
      ],
      "execution_count": 6,
      "outputs": [
        {
          "output_type": "execute_result",
          "data": {
            "text/plain": [
              "5"
            ]
          },
          "metadata": {
            "tags": []
          },
          "execution_count": 6
        }
      ]
    },
    {
      "cell_type": "code",
      "metadata": {
        "id": "iN69e8Yo8y69",
        "colab_type": "code",
        "colab": {
          "base_uri": "https://localhost:8080/",
          "height": 34
        },
        "outputId": "a6d5cc6f-64a7-4dad-cd4d-e743bfb71d93"
      },
      "source": [
        "# now count the observations in sample b\n",
        "b_count = len(sample_b)      # \"a_count\" is now a variable with the number of observations in sample a\n",
        "b_count"
      ],
      "execution_count": 8,
      "outputs": [
        {
          "output_type": "execute_result",
          "data": {
            "text/plain": [
              "5"
            ]
          },
          "metadata": {
            "tags": []
          },
          "execution_count": 8
        }
      ]
    },
    {
      "cell_type": "code",
      "metadata": {
        "id": "fZzEQ_QK8y7C",
        "colab_type": "code",
        "colab": {}
      },
      "source": [
        "# finding standard uncertainty\n",
        "a_stunc = a_stdev / np.sqrt(a_count)       # python can do algebra\n",
        "a_stunc"
      ],
      "execution_count": null,
      "outputs": []
    },
    {
      "cell_type": "code",
      "metadata": {
        "id": "RwkCKuSg8y7H",
        "colab_type": "code",
        "colab": {}
      },
      "source": [
        "# how about sample b's standard uncertainty?\n"
      ],
      "execution_count": null,
      "outputs": []
    },
    {
      "cell_type": "markdown",
      "metadata": {
        "id": "xDbAO9KW8y7O",
        "colab_type": "text"
      },
      "source": [
        "## III. Comparing Means"
      ]
    },
    {
      "cell_type": "code",
      "metadata": {
        "id": "oCL8SDpn8y7P",
        "colab_type": "code",
        "colab": {}
      },
      "source": [
        "# t' statistic\n",
        "# for the code below to work, you'll need to have done the calculations for sample b above, too\n",
        "t_prime = (a_mean - b_mean) / np.sqrt(a_stunc**2 + b_stunc**2)\n",
        "t_prime"
      ],
      "execution_count": null,
      "outputs": []
    },
    {
      "cell_type": "markdown",
      "metadata": {
        "id": "n-9aMdB38y7X",
        "colab_type": "text"
      },
      "source": [
        "Nicely done. If you found a t' of about -1.2, congrats! If not, check your math or start over with a [clean copy of this activity](https://colab.research.google.com/github/adamlamee/UCF_labs/blob/master/making_comparisons.ipynb).  \n",
        "\n",
        "**Students in PHY2048 or PHY2049**: you'll be required to use python to analyze the data you collect in your next lab investigation. If your group is shaky on this, it's worth going through again.  \n",
        "\n",
        "**Students in PHY2053 or PHY2054**: you'll have the option of using python or a spreadsheet to analyze the data you collect in your next lab investigation.\n",
        "\n",
        "<hr/>  \n",
        "\n",
        "# Credits\n",
        "This notebook was written by [Adam LaMee](http://www.adamlamee.com). Thanks to the great folks at [Binder](https://mybinder.org/) and [Google Colaboratory](https://colab.research.google.com/notebooks/intro.ipynb) for making this notebook interactive without you needing to download it or install [Jupyter](https://jupyter.org/) on your own device."
      ]
    }
  ]
}